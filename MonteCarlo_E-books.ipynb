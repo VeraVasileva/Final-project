{
 "cells": [
  {
   "cell_type": "markdown",
   "metadata": {
    "collapsed": true
   },
   "source": [
    "### Title: Access to E-book\n",
    "\n",
    "**Monte Carlo Simulation Scenario:**\n",
    "\n",
    "Sometimes access to electronic books is limited to a particular number of simultaneous users. That means that if the particular number of people already have this resource open in their browser the next person to try to access this resource will be blocked. When this happens, it is necessary to wait a little while and then return to the resource to see if space has become available.\n",
    "\n",
    "**Simulation's variables of uncertainty:**\n",
    "1. Number of users reading a book\n",
    "2. Duration of reading a book\n",
    "\n",
    "**Purpose:** Apply Monte Carlo method to simulate:\n",
    "- **a chance to be blocked** (i.e. a probability not to get access to a book, since a maximum number of simultaneous users per book is exceeded) // (using PERT distribution function)\n",
    "- **a chance of waiting** (i.e. a probability that it would be necessary to wait for a book) // (using Normal distribution function)\n"
   ]
  },
  {
   "cell_type": "code",
   "execution_count": 1,
   "metadata": {
    "collapsed": true
   },
   "outputs": [],
   "source": [
    "import numpy as np\n",
    "import matplotlib.pyplot as plt"
   ]
  },
  {
   "cell_type": "code",
   "execution_count": 2,
   "metadata": {
    "collapsed": true
   },
   "outputs": [],
   "source": [
    "class Sim:\n",
    "    \"\"\"\n",
    "    The Sim class consists of the next methods:\n",
    "        mod_pert_random: PERT distribution function to simulate \"number of users reading a book\"\n",
    "        normal_distribution: Normal distribution function to simulate \"duration of reading a book\"\n",
    "        pert_plotting: To plot a simulation for \"a chance to be blocked\"\n",
    "        norm_plotting: To plot a simulation for \"a chance of waiting\" \n",
    "    \"\"\"\n",
    "    \n",
    "    def mod_pert_random(self, low: int, likely: int, high: int, confidence=4, samples=10000000):\n",
    "        \"\"\"Produce random numbers according to the 'Modified PERT'\n",
    "        distribution.\n",
    "\n",
    "        :param low: The lowest value expected as possible.\n",
    "        :param likely: The 'most likely' value, statistically, the mode.\n",
    "        :param high: The highest value expected as possible.\n",
    "        :param confidence: This is typically called 'lambda' in literature\n",
    "                            about the Modified PERT distribution. The value\n",
    "                            4 here matches the standard PERT curve. Higher\n",
    "                            values indicate higher confidence in the mode.\n",
    "\n",
    "        Formulas from \"Modified Pert Simulation\" by Paulo Buchsbaum.\n",
    "        \"\"\"\n",
    "        # Check minimum & maximum confidence levels to allow:\n",
    "        confidence = min(8, confidence)\n",
    "        confidence = max(2, confidence)\n",
    "\n",
    "        mean = (low + confidence * likely + high) / (confidence + 2)\n",
    "\n",
    "        a = (mean - low) / (high - low) * (confidence + 2)\n",
    "        b = ((confidence + 1) * high - low - confidence * likely) / (high - low)\n",
    "\n",
    "        beta = np.random.beta(a, b, samples)\n",
    "        beta = beta * (high - low) + low\n",
    "        return beta\n",
    "\n",
    "    def normal_distribution(self, mean: float, standard_deviation: float, size=10000000):\n",
    "        normal = np.random.normal(loc=mean, scale=standard_deviation, size=size)\n",
    "        return normal\n",
    "\n",
    "    def pert_plotting(self, pertResults):\n",
    "        fig = plt.figure()\n",
    "        plt.hist(pertResults, normed=True, bins = 300)\n",
    "        fig.suptitle('Monte Carlo Simulation', fontsize=22)\n",
    "        plt.xlabel('number of users reading a book', fontsize=14)\n",
    "        plt.ylabel('a chance to be blocked', fontsize=14)\n",
    "        plt.show()\n",
    "\n",
    "    def norm_plotting(self, normResults):\n",
    "        fig = plt.figure()\n",
    "        plt.hist(normResults, normed=True, bins=300)\n",
    "        fig.suptitle('Monte Carlo Simulation', fontsize=22)\n",
    "        plt.xlabel('duration of reading a book', fontsize=14)\n",
    "        plt.ylabel('a chance of waiting for a book', fontsize=14)\n",
    "        plt.show()"
   ]
  },
  {
   "cell_type": "code",
   "execution_count": 3,
   "metadata": {},
   "outputs": [
    {
     "name": "stdout",
     "output_type": "stream",
     "text": [
      "To simulate a 'number of users reading a book', please enter Low, Likely, and High values. \n",
      "The values should be integers greater than 0.\n",
      "Low: 1\n",
      "Likely: 4\n",
      "High: 10\n",
      "[ 2.42071029  6.09473059  6.84888821 ...,  3.94386407  2.57132188\n",
      "  3.32948598]\n"
     ]
    },
    {
     "data": {
      "image/png": "[encoded data removed]",
      "text/plain": [
       "<matplotlib.figure.Figure at 0x1093a2f98>"
      ]
     },
     "metadata": {},
     "output_type": "display_data"
    },
    {
     "name": "stdout",
     "output_type": "stream",
     "text": [
      "To simulate a 'duration of reading a book', please enter Mean and Standard Deviation values. \n",
      "The values should be greater than 0.\n",
      "Mean: 45\n",
      "Standard Deviation: 5\n",
      "[ 53.08000078  49.10293758  47.8674182  ...,  45.53417245  42.11706628\n",
      "  50.96680258]\n"
     ]
    },
    {
     "data": {
      "image/png": "[encoded data removed]",
      "text/plain": [
       "<matplotlib.figure.Figure at 0x109eb2080>"
      ]
     },
     "metadata": {},
     "output_type": "display_data"
    }
   ],
   "source": [
    "class Program:\n",
    "    \"\"\"\n",
    "    The Program class consists of the next methods:\n",
    "        checkInputInt: To check that input value is an integer number greater than 0 \n",
    "        checkInputFloat: To check that input value is any number greater than 0 \n",
    "        distPERT: To get user inputs to simulate \"number of users reading a book\"\n",
    "        distNORM: To get user inputs to simulate \"duration of reading a book\"\n",
    "        simPERT: To run simulation to calculate \"a chance to be blocked\" based on user inputs\n",
    "        simNORM: To run simulation to calculate \"a chance of waiting\" based on user inputs  \n",
    "    \"\"\"\n",
    "    \n",
    "    def __init__(self):\n",
    "        self.normResults = []\n",
    "        self.pertResults = []\n",
    "        self.pert_dist_values = []\n",
    "        self.norm_dist_values = []\n",
    "\n",
    "    def checkInputInt(self, input: str) -> bool:\n",
    "        try:\n",
    "            if int(input) > 0:\n",
    "                return True\n",
    "            else:\n",
    "                return False\n",
    "        except:\n",
    "            return False\n",
    "\n",
    "    def checkInputFloat(self, input: str) -> bool:\n",
    "        try:\n",
    "            if float(input) > 0:\n",
    "                return True\n",
    "            else:\n",
    "                return False\n",
    "        except:\n",
    "            return False\n",
    "\n",
    "    def distPERT(self):\n",
    "        print(\"To simulate a 'number of users reading a book', please enter Low, Likely, and High values. \\nThe values should be integers greater than 0.\")\n",
    "    \n",
    "        pert_dist_values = []\n",
    "        \n",
    "        low = input(\"Low: \")\n",
    "        while not self.checkInputInt(low):\n",
    "            print(\"Invalid input. Please enter an integer greater than 0!\")\n",
    "            low = input(\"Low: \")\n",
    "        pert_dist_values.append(int(low))\n",
    "\n",
    "\n",
    "        likely = input(\"Likely: \")\n",
    "        while not self.checkInputInt(likely):\n",
    "            print(\"Invalid input. Please enter an integer greater than 0!\")\n",
    "            likely = input(\"Likely: \")\n",
    "        pert_dist_values.append(int(likely))\n",
    "\n",
    "\n",
    "        high = input(\"High: \")\n",
    "        while not self.checkInputInt(high):\n",
    "            print(\"Invalid input. Please enter an integer greater than 0!\")\n",
    "            high = input(\"High: \")\n",
    "        pert_dist_values.append(int(high))\n",
    "\n",
    "        return(pert_dist_values)\n",
    "\n",
    "    def distNORM(self):\n",
    "        print(\"To simulate a 'duration of reading a book', please enter Mean and Standard Deviation values. \\nThe values should be greater than 0.\")\n",
    "\n",
    "        norm_dist_values = []\n",
    "        \n",
    "        mean = input(\"Mean: \")\n",
    "        while not self.checkInputFloat(mean):\n",
    "            print(\"Invalid input. Please enter a value greater than 0!\")\n",
    "            mean = input(\"Mean: \")\n",
    "        norm_dist_values.append(float(mean))\n",
    "\n",
    "        standard_deviation = input(\"Standard Deviation: \")\n",
    "        while not self.checkInputFloat(standard_deviation):\n",
    "            print(\"Invalid input. Please enter a value greater than 0!\")\n",
    "            standard_deviation = input(\"Standard Deviation: \")\n",
    "        norm_dist_values.append(float(standard_deviation))\n",
    "\n",
    "        return(norm_dist_values)\n",
    "\n",
    "    def simPERT(self):\n",
    "        simulation1 = Sim()\n",
    "        pert=self.distPERT()\n",
    "        sim_var = simulation1.mod_pert_random(pert[0], pert[1], pert[2])\n",
    "        self.pertResults = sim_var\n",
    "        print(self.pertResults)\n",
    "        simulation1.pert_plotting(self.pertResults)\n",
    "\n",
    "    def simNORM(self):\n",
    "        simulation2 = Sim()\n",
    "        norm=self.distNORM()\n",
    "        sim_var = simulation2.normal_distribution(norm[0], norm[1])\n",
    "        self.normResults = sim_var\n",
    "        print(self.normResults)\n",
    "        simulation2.norm_plotting(self.normResults)\n",
    "\n",
    "    def executeProgram(self):\n",
    "        self.simPERT()\n",
    "        self.simNORM()\n",
    "\n",
    "\n",
    "if __name__ == \"__main__\":\n",
    "    run = Program()\n",
    "    run.executeProgram()"
   ]
  },
  {
   "cell_type": "code",
   "execution_count": null,
   "metadata": {
    "collapsed": true
   },
   "outputs": [],
   "source": []
  }
 ],
 "metadata": {
  "kernelspec": {
   "display_name": "Python 3",
   "language": "python",
   "name": "python3"
  },
  "language_info": {
   "codemirror_mode": {
    "name": "ipython",
    "version": 3
   },
   "file_extension": ".py",
   "mimetype": "text/x-python",
   "name": "python",
   "nbconvert_exporter": "python",
   "pygments_lexer": "ipython3",
   "version": "3.6.1"
  }
 },
 "nbformat": 4,
 "nbformat_minor": 2
}
